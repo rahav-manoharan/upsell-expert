{
 "cells": [
  {
   "cell_type": "code",
   "execution_count": 1,
   "metadata": {},
   "outputs": [],
   "source": [
    "# Import necessary libraries\n",
    "import pandas as pd\n",
    "import numpy as np\n",
    "from sklearn.feature_extraction.text import TfidfVectorizer\n",
    "from sklearn.cluster import KMeans\n",
    "from sklearn.metrics.pairwise import cosine_similarity\n",
    "from sentence_transformers import SentenceTransformer\n",
    "from datasets import load_dataset"
   ]
  },
  {
   "cell_type": "code",
   "execution_count": 2,
   "metadata": {},
   "outputs": [],
   "source": [
    "# -------------------------------\n",
    "# Step 1: Load Dataset from Hugging Face\n",
    "# -------------------------------\n",
    "dataset = load_dataset(\"McAuley-Lab/Amazon-Reviews-2023\", \"raw_meta_Movies_and_TV\", trust_remote_code=True, split='full')"
   ]
  },
  {
   "cell_type": "code",
   "execution_count": 3,
   "metadata": {},
   "outputs": [],
   "source": [
    "# Convert dataset to Pandas DataFrame\n",
    "df = pd.DataFrame(dataset)\n",
    "\n",
    "df_original_backup = df.copy()"
   ]
  },
  {
   "cell_type": "code",
   "execution_count": 12,
   "metadata": {},
   "outputs": [],
   "source": [
    "# df = df_original_backup.copy()"
   ]
  },
  {
   "cell_type": "code",
   "execution_count": 13,
   "metadata": {},
   "outputs": [
    {
     "data": {
      "text/plain": [
       "dict_keys(['main_category', 'title', 'average_rating', 'rating_number', 'features', 'description', 'price', 'images', 'videos', 'store', 'categories', 'details', 'parent_asin', 'bought_together', 'subtitle', 'author'])"
      ]
     },
     "execution_count": 13,
     "metadata": {},
     "output_type": "execute_result"
    }
   ],
   "source": [
    "dataset[0].keys()"
   ]
  },
  {
   "cell_type": "code",
   "execution_count": 14,
   "metadata": {},
   "outputs": [
    {
     "name": "stdout",
     "output_type": "stream",
     "text": [
      "Length of original dataset: 748224\n",
      "Length of filtered dataset, after removing blank descriptions: 347683\n"
     ]
    }
   ],
   "source": [
    "print(f\"Length of original dataset: {len(df)}\")\n",
    "\n",
    "# Retain relevant columns and drop missing descriptions\n",
    "df = df[['title', 'description', 'average_rating', 'rating_number', 'price', 'categories']]\n",
    "\n",
    "# Drop rows where description is an empty list\n",
    "df = df[df['description'].apply(lambda x: isinstance(x, list) and len(x) > 0)]\n",
    "\n",
    "# Reset index\n",
    "df.reset_index(drop=True, inplace=True)\n",
    "print(f\"Length of filtered dataset, after removing blank descriptions: {len(df)}\")"
   ]
  },
  {
   "cell_type": "code",
   "execution_count": 15,
   "metadata": {},
   "outputs": [],
   "source": [
    "# sample the df for easier management\n",
    "df = df.sample(10000).reset_index(drop=True)"
   ]
  },
  {
   "cell_type": "code",
   "execution_count": 16,
   "metadata": {},
   "outputs": [],
   "source": [
    "# -------------------------------\n",
    "# Step 2: Traditional Recommendation Engine (TF-IDF + K-Means)\n",
    "# -------------------------------\n",
    "\n",
    "# 2.1 TF–IDF Vectorization of product descriptions\n",
    "tfidf_vectorizer = TfidfVectorizer(stop_words='english', max_features=5000)\n",
    "tfidf_matrix = tfidf_vectorizer.fit_transform(df['description'].apply(lambda x: ' '.join(x)))\n",
    "\n",
    "# 2.2 Clustering with K-Means\n",
    "num_clusters = 10  # Adjust based on dataset size\n",
    "kmeans = KMeans(n_clusters=num_clusters, random_state=42)\n",
    "df['cluster'] = kmeans.fit_predict(tfidf_matrix)\n",
    "\n",
    "def traditional_recommendations(title, top_n=5):\n",
    "    \"\"\"\n",
    "    Given a movie title, recommend top_n similar movies based on TF-IDF clustering.\n",
    "    \"\"\"\n",
    "    # Find the cluster of the given movie\n",
    "    product_cluster = df.loc[df['title'] == title, 'cluster'].values[0]\n",
    "    \n",
    "    # Filter products in the same cluster (excluding the queried product)\n",
    "    cluster_products = df[(df['cluster'] == product_cluster) & (df['title'] != title)]\n",
    "    \n",
    "    # Return the top_n recommendations\n",
    "    return cluster_products.head(top_n)[['title', 'description', 'average_rating', 'price']]"
   ]
  },
  {
   "cell_type": "code",
   "execution_count": 17,
   "metadata": {},
   "outputs": [],
   "source": [
    "# -------------------------------\n",
    "# Step 3: SBERT-Based Recommendation Engine\n",
    "# -------------------------------\n",
    "\n",
    "# 3.1 Load SBERT model\n",
    "sbert_model = SentenceTransformer('all-MiniLM-L6-v2')\n",
    "\n",
    "# 3.2 Compute SBERT embeddings for product descriptions\n",
    "df['sbert_embedding'] = df['description'].apply(lambda x: sbert_model.encode(' '.join(x)))\n",
    "\n",
    "# Stack embeddings for similarity computation\n",
    "embeddings = np.vstack(df['sbert_embedding'].values)"
   ]
  },
  {
   "cell_type": "code",
   "execution_count": 18,
   "metadata": {},
   "outputs": [],
   "source": [
    "def sbert_recommendations(title, top_n=5):\n",
    "    \"\"\"\n",
    "    Given a movie title, recommend top_n similar movies using SBERT embeddings.\n",
    "    \"\"\"\n",
    "    # Find the embedding for the queried movie\n",
    "    idx = df.index[df['title'] == title][0]\n",
    "    query_embedding = embeddings[idx].reshape(1, -1)\n",
    "    \n",
    "    # Compute cosine similarity between the query movie and all others\n",
    "    sim_scores = cosine_similarity(query_embedding, embeddings).flatten()\n",
    "    \n",
    "    # Exclude the movie itself\n",
    "    sim_scores[idx] = -np.inf\n",
    "    \n",
    "    # Get indices of top_n similar movies\n",
    "    top_indices = sim_scores.argsort()[-top_n:][::-1]\n",
    "    recommendations = df.iloc[top_indices]\n",
    "    return recommendations[['title', 'description', 'average_rating', 'price']]"
   ]
  },
  {
   "cell_type": "code",
   "execution_count": 27,
   "metadata": {},
   "outputs": [
    {
     "data": {
      "text/plain": [
       "'Test Movie: Attack on Titan: Season 3 - Part 2 [Blu-ray]'"
      ]
     },
     "metadata": {},
     "output_type": "display_data"
    },
    {
     "data": {
      "text/html": [
       "<div>\n",
       "<style scoped>\n",
       "    .dataframe tbody tr th:only-of-type {\n",
       "        vertical-align: middle;\n",
       "    }\n",
       "\n",
       "    .dataframe tbody tr th {\n",
       "        vertical-align: top;\n",
       "    }\n",
       "\n",
       "    .dataframe thead th {\n",
       "        text-align: right;\n",
       "    }\n",
       "</style>\n",
       "<table border=\"1\" class=\"dataframe\">\n",
       "  <thead>\n",
       "    <tr style=\"text-align: right;\">\n",
       "      <th></th>\n",
       "      <th>title</th>\n",
       "      <th>description</th>\n",
       "      <th>average_rating</th>\n",
       "      <th>price</th>\n",
       "    </tr>\n",
       "  </thead>\n",
       "  <tbody>\n",
       "    <tr>\n",
       "      <th>100</th>\n",
       "      <td>Attack on Titan: Season 3 - Part 2 [Blu-ray]</td>\n",
       "      <td>[Once again, Eren faces the Titans in his home...</td>\n",
       "      <td>4.9</td>\n",
       "      <td>27.88</td>\n",
       "    </tr>\n",
       "  </tbody>\n",
       "</table>\n",
       "</div>"
      ],
      "text/plain": [
       "                                            title  \\\n",
       "100  Attack on Titan: Season 3 - Part 2 [Blu-ray]   \n",
       "\n",
       "                                           description  average_rating  price  \n",
       "100  [Once again, Eren faces the Titans in his home...             4.9  27.88  "
      ]
     },
     "metadata": {},
     "output_type": "display_data"
    },
    {
     "data": {
      "text/plain": [
       "'\\nTraditional (TF-IDF + K-Means) Recommendations:'"
      ]
     },
     "metadata": {},
     "output_type": "display_data"
    },
    {
     "data": {
      "text/html": [
       "<div>\n",
       "<style scoped>\n",
       "    .dataframe tbody tr th:only-of-type {\n",
       "        vertical-align: middle;\n",
       "    }\n",
       "\n",
       "    .dataframe tbody tr th {\n",
       "        vertical-align: top;\n",
       "    }\n",
       "\n",
       "    .dataframe thead th {\n",
       "        text-align: right;\n",
       "    }\n",
       "</style>\n",
       "<table border=\"1\" class=\"dataframe\">\n",
       "  <thead>\n",
       "    <tr style=\"text-align: right;\">\n",
       "      <th></th>\n",
       "      <th>title</th>\n",
       "      <th>description</th>\n",
       "      <th>average_rating</th>\n",
       "      <th>price</th>\n",
       "    </tr>\n",
       "  </thead>\n",
       "  <tbody>\n",
       "    <tr>\n",
       "      <th>24</th>\n",
       "      <td>Farscape - The Best of Season One</td>\n",
       "      <td>[Product Description, Farscape: The Best of Se...</td>\n",
       "      <td>4.5</td>\n",
       "      <td>7.1</td>\n",
       "    </tr>\n",
       "    <tr>\n",
       "      <th>51</th>\n",
       "      <td>Strike Back: The Complete Fifth Season (DVD + ...</td>\n",
       "      <td>[A fresh team of fearless commandos are recrui...</td>\n",
       "      <td>4.6</td>\n",
       "      <td>47.0</td>\n",
       "    </tr>\n",
       "    <tr>\n",
       "      <th>52</th>\n",
       "      <td>I Spy - Season 2 [DVD]</td>\n",
       "      <td>[Robert Culp and Bill Cosby star as internatio...</td>\n",
       "      <td>4.4</td>\n",
       "      <td>28.5</td>\n",
       "    </tr>\n",
       "    <tr>\n",
       "      <th>85</th>\n",
       "      <td>Game of Thrones: The Complete Seasons 1-7 (DVD)</td>\n",
       "      <td>[Game of Thrones: The Complete Seasons 1-7 (DV...</td>\n",
       "      <td>4.8</td>\n",
       "      <td>None</td>\n",
       "    </tr>\n",
       "    <tr>\n",
       "      <th>109</th>\n",
       "      <td>The Flintstones: The Complete Series [DVD]</td>\n",
       "      <td>[All 166 Episodes of a primetime tv classic on...</td>\n",
       "      <td>4.7</td>\n",
       "      <td>149.86</td>\n",
       "    </tr>\n",
       "  </tbody>\n",
       "</table>\n",
       "</div>"
      ],
      "text/plain": [
       "                                                 title  \\\n",
       "24                   Farscape - The Best of Season One   \n",
       "51   Strike Back: The Complete Fifth Season (DVD + ...   \n",
       "52                              I Spy - Season 2 [DVD]   \n",
       "85     Game of Thrones: The Complete Seasons 1-7 (DVD)   \n",
       "109         The Flintstones: The Complete Series [DVD]   \n",
       "\n",
       "                                           description  average_rating   price  \n",
       "24   [Product Description, Farscape: The Best of Se...             4.5     7.1  \n",
       "51   [A fresh team of fearless commandos are recrui...             4.6    47.0  \n",
       "52   [Robert Culp and Bill Cosby star as internatio...             4.4    28.5  \n",
       "85   [Game of Thrones: The Complete Seasons 1-7 (DV...             4.8    None  \n",
       "109  [All 166 Episodes of a primetime tv classic on...             4.7  149.86  "
      ]
     },
     "metadata": {},
     "output_type": "display_data"
    },
    {
     "data": {
      "text/plain": [
       "'\\nSBERT-Based Recommendations:'"
      ]
     },
     "metadata": {},
     "output_type": "display_data"
    },
    {
     "data": {
      "text/html": [
       "<div>\n",
       "<style scoped>\n",
       "    .dataframe tbody tr th:only-of-type {\n",
       "        vertical-align: middle;\n",
       "    }\n",
       "\n",
       "    .dataframe tbody tr th {\n",
       "        vertical-align: top;\n",
       "    }\n",
       "\n",
       "    .dataframe thead th {\n",
       "        text-align: right;\n",
       "    }\n",
       "</style>\n",
       "<table border=\"1\" class=\"dataframe\">\n",
       "  <thead>\n",
       "    <tr style=\"text-align: right;\">\n",
       "      <th></th>\n",
       "      <th>title</th>\n",
       "      <th>description</th>\n",
       "      <th>average_rating</th>\n",
       "      <th>price</th>\n",
       "    </tr>\n",
       "  </thead>\n",
       "  <tbody>\n",
       "    <tr>\n",
       "      <th>4252</th>\n",
       "      <td>Blue Exorcist: The Movie [DVD]</td>\n",
       "      <td>[When his adopted father, Shiro Fujimoto, was ...</td>\n",
       "      <td>4.2</td>\n",
       "      <td>7.65</td>\n",
       "    </tr>\n",
       "    <tr>\n",
       "      <th>5380</th>\n",
       "      <td>Insurgent [DVD]</td>\n",
       "      <td>[Insurgent, , the next gripping action-adventu...</td>\n",
       "      <td>4.7</td>\n",
       "      <td>8.97</td>\n",
       "    </tr>\n",
       "    <tr>\n",
       "      <th>5726</th>\n",
       "      <td>Teen Titans: Volume 2 - Switched</td>\n",
       "      <td>[Teen Titans: Switched - Season 1 Vol. 2 (DVD)]</td>\n",
       "      <td>4.7</td>\n",
       "      <td>6.63</td>\n",
       "    </tr>\n",
       "    <tr>\n",
       "      <th>51</th>\n",
       "      <td>Strike Back: The Complete Fifth Season (DVD + ...</td>\n",
       "      <td>[A fresh team of fearless commandos are recrui...</td>\n",
       "      <td>4.6</td>\n",
       "      <td>47.0</td>\n",
       "    </tr>\n",
       "    <tr>\n",
       "      <th>2825</th>\n",
       "      <td>Transformers Animated: Season 3</td>\n",
       "      <td>[Following the events of the season 2 finale, ...</td>\n",
       "      <td>4.9</td>\n",
       "      <td>10.46</td>\n",
       "    </tr>\n",
       "  </tbody>\n",
       "</table>\n",
       "</div>"
      ],
      "text/plain": [
       "                                                  title  \\\n",
       "4252                     Blue Exorcist: The Movie [DVD]   \n",
       "5380                                    Insurgent [DVD]   \n",
       "5726                   Teen Titans: Volume 2 - Switched   \n",
       "51    Strike Back: The Complete Fifth Season (DVD + ...   \n",
       "2825                    Transformers Animated: Season 3   \n",
       "\n",
       "                                            description  average_rating  price  \n",
       "4252  [When his adopted father, Shiro Fujimoto, was ...             4.2   7.65  \n",
       "5380  [Insurgent, , the next gripping action-adventu...             4.7   8.97  \n",
       "5726    [Teen Titans: Switched - Season 1 Vol. 2 (DVD)]             4.7   6.63  \n",
       "51    [A fresh team of fearless commandos are recrui...             4.6   47.0  \n",
       "2825  [Following the events of the season 2 finale, ...             4.9  10.46  "
      ]
     },
     "metadata": {},
     "output_type": "display_data"
    }
   ],
   "source": [
    "# -------------------------------\n",
    "# Step 4: Test & Compare Recommendations\n",
    "# -------------------------------\n",
    "\n",
    "# Select a test movie\n",
    "test_movie = df['title'].iloc[100]\n",
    "display(f\"Test Movie: {test_movie}\")\n",
    "display(df.loc[df['title'] == test_movie, ['title', 'description', 'average_rating', 'price']])\n",
    "\n",
    "# Traditional recommendations\n",
    "display(\"\\nTraditional (TF-IDF + K-Means) Recommendations:\")\n",
    "display(traditional_recommendations(test_movie, top_n=5))\n",
    "\n",
    "# SBERT-based recommendations\n",
    "display(\"\\nSBERT-Based Recommendations:\")\n",
    "display(sbert_recommendations(test_movie, top_n=5))"
   ]
  },
  {
   "cell_type": "code",
   "execution_count": null,
   "metadata": {},
   "outputs": [],
   "source": []
  }
 ],
 "metadata": {
  "kernelspec": {
   "display_name": "llms",
   "language": "python",
   "name": "python3"
  },
  "language_info": {
   "codemirror_mode": {
    "name": "ipython",
    "version": 3
   },
   "file_extension": ".py",
   "mimetype": "text/x-python",
   "name": "python",
   "nbconvert_exporter": "python",
   "pygments_lexer": "ipython3",
   "version": "3.12.7"
  }
 },
 "nbformat": 4,
 "nbformat_minor": 2
}
